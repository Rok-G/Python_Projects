{
 "cells": [
  {
   "cell_type": "code",
   "execution_count": 58,
   "id": "02d9bf1c",
   "metadata": {},
   "outputs": [],
   "source": [
    "from bs4 import BeautifulSoup\n",
    "import requests\n",
    "import pandas as pd"
   ]
  },
  {
   "cell_type": "code",
   "execution_count": 57,
   "id": "1048af60",
   "metadata": {},
   "outputs": [],
   "source": [
    "url =(\"https://coinmarketcap.com/currencies/bitcoin/\")\n",
    "\n",
    "page = requests.get(url)\n",
    "\n",
    "soup = BeautifulSoup(page.text,\"html\")"
   ]
  },
  {
   "cell_type": "code",
   "execution_count": null,
   "id": "c870104e",
   "metadata": {},
   "outputs": [],
   "source": [
    "print(soup)"
   ]
  },
  {
   "cell_type": "code",
   "execution_count": 55,
   "id": "c98cbfcb",
   "metadata": {},
   "outputs": [
    {
     "data": {
      "text/plain": [
       "'Bitcoin price\\xa0'"
      ]
     },
     "execution_count": 55,
     "metadata": {},
     "output_type": "execute_result"
    }
   ],
   "source": [
    "soup.find('span', class_ = \"sc-d1ede7e3-0 bEFegK\").text"
   ]
  },
  {
   "cell_type": "code",
   "execution_count": 54,
   "id": "fd9b35cf",
   "metadata": {},
   "outputs": [
    {
     "name": "stdout",
     "output_type": "stream",
     "text": [
      "Bitcoin\n"
     ]
    }
   ],
   "source": [
    "crypto_name = soup.find('span', class_ = \"sc-d1ede7e3-0 bEFegK\").contents [0].text\n",
    "print(crypto_name)"
   ]
  },
  {
   "cell_type": "code",
   "execution_count": 53,
   "id": "aae5d044",
   "metadata": {},
   "outputs": [
    {
     "name": "stdout",
     "output_type": "stream",
     "text": [
      "$61,229.62\n"
     ]
    }
   ],
   "source": [
    "crypto_price = soup.find('span', class_ = \"sc-d1ede7e3-0 fsQm base-text\").text\n",
    "print(crypto_price)"
   ]
  },
  {
   "cell_type": "code",
   "execution_count": null,
   "id": "aa779e4b",
   "metadata": {},
   "outputs": [],
   "source": [
    "# importing timestamp\n",
    "\n",
    "from datetime import datetime\n",
    "\n",
    "date_time = datetime.now()\n",
    "print(date_time)"
   ]
  },
  {
   "cell_type": "code",
   "execution_count": 83,
   "id": "8ad04f59",
   "metadata": {},
   "outputs": [
    {
     "name": "stdout",
     "output_type": "stream",
     "text": [
      "  Crypto name       Price                  TimeStamp\n",
      "0     Bitcoin  $61,229.62 2024-06-27 14:05:18.163901\n"
     ]
    }
   ],
   "source": [
    "date_time = datetime.now() # Repeated to update timestamp\n",
    "\n",
    "dict = {\"Crypto name\":crypto_name, \"Price\":crypto_price, \"TimeStamp\":date_time}\n",
    "\n",
    "df = pd.DataFrame(dict, index = [0]) # Needs to go thur as index [0] or as a list pd.DataFrame([dict])\n",
    "\n",
    "print(df)"
   ]
  },
  {
   "cell_type": "code",
   "execution_count": 84,
   "id": "1e9375cb",
   "metadata": {},
   "outputs": [],
   "source": [
    "df.to_csv(r\"C:\\Users\\golez\\Desktop\\Portfolio\\Python\\Bitcoin_Scrapping.csv\")"
   ]
  },
  {
   "cell_type": "code",
   "execution_count": 93,
   "id": "6888f695",
   "metadata": {},
   "outputs": [],
   "source": [
    "import os\n",
    "\n",
    "# Checking if the file already exists\n",
    "# Writing the data in Excel without the header\n",
    "if os.path.exists(r\"C:\\Users\\golez\\Desktop\\Portfolio\\Python\\Bitcoin_Scrapping.csv\"):\n",
    "    df.to_csv(r\"C:\\Users\\golez\\Desktop\\Portfolio\\Python\\Bitcoin_Scrapping.csv\", mode = \"a\", header = False, index = False)\n",
    "else:\n",
    "    df.to_csv(r\"C:\\Users\\golez\\Desktop\\Portfolio\\Python\\Bitcoin_Scrapping.csv\")"
   ]
  },
  {
   "cell_type": "code",
   "execution_count": 97,
   "id": "34d5f6b2",
   "metadata": {},
   "outputs": [],
   "source": [
    "# Putting it all together\n",
    "\n",
    "from bs4 import BeautifulSoup\n",
    "import requests\n",
    "import pandas as pd\n",
    "from datetime import datetime"
   ]
  },
  {
   "cell_type": "code",
   "execution_count": 105,
   "id": "e96088ff",
   "metadata": {},
   "outputs": [],
   "source": [
    "def auto_pull():\n",
    "    url =(\"https://coinmarketcap.com/currencies/bitcoin/\")\n",
    "\n",
    "    page = requests.get(url)\n",
    "\n",
    "    soup = BeautifulSoup(page.text,\"html\")\n",
    "\n",
    "    crypto_name = soup.find('span', class_ = \"sc-d1ede7e3-0 bEFegK\").contents [0].text\n",
    "\n",
    "    crypto_price = soup.find('span', class_ = \"sc-d1ede7e3-0 fsQm base-text\").text\n",
    "\n",
    "    date_time = datetime.now()\n",
    "\n",
    "    dict = {\"Crypto name\":crypto_name, \"Price\":crypto_price, \"TimeStamp\":date_time}\n",
    "\n",
    "    df = pd.DataFrame(dict, index = [0])\n",
    "\n",
    "    if os.path.exists(r\"C:\\Users\\golez\\Desktop\\Portfolio\\Python\\Bitcoin_Scrapping.csv\"):\n",
    "        df.to_csv(r\"C:\\Users\\golez\\Desktop\\Portfolio\\Python\\Bitcoin_Scrapping.csv\", mode = \"a\", header = False, index = False)\n",
    "    else:\n",
    "        df.to_csv(r\"C:\\Users\\golez\\Desktop\\Portfolio\\Python\\Bitcoin_Scrapping.csv\", index = False)\n",
    "    print(df)"
   ]
  },
  {
   "cell_type": "code",
   "execution_count": 106,
   "id": "d982187c",
   "metadata": {},
   "outputs": [
    {
     "name": "stdout",
     "output_type": "stream",
     "text": [
      "  Crypto name       Price                  TimeStamp\n",
      "0     Bitcoin  $61,749.36 2024-06-27 14:25:49.603462\n",
      "  Crypto name       Price                  TimeStamp\n",
      "0     Bitcoin  $61,749.36 2024-06-27 14:26:00.289403\n",
      "  Crypto name       Price                  TimeStamp\n",
      "0     Bitcoin  $61,749.36 2024-06-27 14:26:10.686510\n",
      "  Crypto name       Price                  TimeStamp\n",
      "0     Bitcoin  $61,749.36 2024-06-27 14:26:21.142956\n",
      "  Crypto name       Price                  TimeStamp\n",
      "0     Bitcoin  $61,749.36 2024-06-27 14:26:31.531098\n",
      "  Crypto name       Price                  TimeStamp\n",
      "0     Bitcoin  $61,749.36 2024-06-27 14:26:43.779861\n",
      "  Crypto name       Price                  TimeStamp\n",
      "0     Bitcoin  $61,749.36 2024-06-27 14:26:54.319616\n"
     ]
    },
    {
     "ename": "KeyboardInterrupt",
     "evalue": "",
     "output_type": "error",
     "traceback": [
      "\u001b[1;31m---------------------------------------------------------------------------\u001b[0m",
      "\u001b[1;31mKeyboardInterrupt\u001b[0m                         Traceback (most recent call last)",
      "Cell \u001b[1;32mIn[106], line 7\u001b[0m\n\u001b[0;32m      5\u001b[0m \u001b[38;5;28;01mwhile\u001b[39;00m \u001b[38;5;28;01mTrue\u001b[39;00m:\n\u001b[0;32m      6\u001b[0m     auto_pull()\n\u001b[1;32m----> 7\u001b[0m     time\u001b[38;5;241m.\u001b[39msleep(\u001b[38;5;241m10\u001b[39m)\n",
      "\u001b[1;31mKeyboardInterrupt\u001b[0m: "
     ]
    }
   ],
   "source": [
    "# Automation part \n",
    "\n",
    "import time\n",
    "\n",
    "while True:\n",
    "    auto_pull()\n",
    "    time.sleep(10) # How often do you want to check it (10) - runs every 10 seconds"
   ]
  },
  {
   "cell_type": "code",
   "execution_count": null,
   "id": "7575e0a6",
   "metadata": {},
   "outputs": [],
   "source": []
  },
  {
   "cell_type": "code",
   "execution_count": null,
   "id": "4d99fbeb",
   "metadata": {},
   "outputs": [],
   "source": []
  }
 ],
 "metadata": {
  "kernelspec": {
   "display_name": "Python 3 (ipykernel)",
   "language": "python",
   "name": "python3"
  },
  "language_info": {
   "codemirror_mode": {
    "name": "ipython",
    "version": 3
   },
   "file_extension": ".py",
   "mimetype": "text/x-python",
   "name": "python",
   "nbconvert_exporter": "python",
   "pygments_lexer": "ipython3",
   "version": "3.11.7"
  }
 },
 "nbformat": 4,
 "nbformat_minor": 5
}
