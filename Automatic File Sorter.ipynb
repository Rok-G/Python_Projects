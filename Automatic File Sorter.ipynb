{
 "cells": [
  {
   "cell_type": "code",
   "execution_count": 25,
   "id": "f3a836b2",
   "metadata": {},
   "outputs": [],
   "source": [
    "import os, shutil\n",
    "\n",
    "path = r\"C:\\Users\\golez\\Downloads\\AutomaticFileSorter\\\\\"\n",
    "\n",
    "#List of all the files in that path\n",
    "file_names = os.listdir(path)\n",
    "\n",
    "#Creating the folders\n",
    "folder_names = [\"CSV Files\",\"Text Files\",\"Image Files\"]\n",
    "\n",
    "for folder in folder_names:\n",
    "    if not os.path.exists(os.path.join(path,folder)):\n",
    "        os.makedirs(os.path.join(path,folder))\n",
    "\n",
    "#Sorting files\n",
    "for file in file_names:\n",
    "    if file.endswith(\".csv\") and not os.path.exists(os.path.join(path, \"CSV Files\", file)):\n",
    "        shutil.move(os.path.join(path, file), os.path.join(path, \"CSV Files\", file))\n",
    "    elif file.endswith(\".txt\") and not os.path.exists(os.path.join(path, \"Text Files\", file)):\n",
    "        shutil.move(os.path.join(path, file), os.path.join(path, \"Text Files\", file))\n",
    "    elif file.endswith((\".png\", \".jpg\", \".jpeg\", \".gif\")) and not os.path.exists(os.path.join(path, \"Image Files\", file)):\n",
    "        shutil.move(os.path.join(path, file), os.path.join(path, \"Image Files\", file))\n",
    "\n"
   ]
  },
  {
   "cell_type": "code",
   "execution_count": null,
   "id": "c6dc494b",
   "metadata": {},
   "outputs": [],
   "source": []
  }
 ],
 "metadata": {
  "kernelspec": {
   "display_name": "Python 3 (ipykernel)",
   "language": "python",
   "name": "python3"
  },
  "language_info": {
   "codemirror_mode": {
    "name": "ipython",
    "version": 3
   },
   "file_extension": ".py",
   "mimetype": "text/x-python",
   "name": "python",
   "nbconvert_exporter": "python",
   "pygments_lexer": "ipython3",
   "version": "3.11.7"
  }
 },
 "nbformat": 4,
 "nbformat_minor": 5
}
